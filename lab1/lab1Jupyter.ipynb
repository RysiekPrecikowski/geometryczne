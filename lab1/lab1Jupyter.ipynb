{
 "cells": [
  {
   "cell_type": "code",
   "execution_count": 1,
   "metadata": {},
   "outputs": [],
   "source": [
    "import numpy as np\n",
    "import matplotlib.pyplot as plt\n",
    "import matplotlib.collections as mcoll\n",
    "import matplotlib.colors as mcolors\n",
    "import json as js"
   ]
  },
  {
   "cell_type": "code",
   "execution_count": 2,
   "metadata": {},
   "outputs": [],
   "source": [
    "class PointsCollection:\n",
    "    def __init__(self, points = [], color = None, marker = None):\n",
    "        self.points = np.array(points)\n",
    "        self.color = color\n",
    "        self.marker = marker\n",
    "        \n",
    "class LinesCollection:\n",
    "    def __init__(self, lines = [], color = None):\n",
    "        self.color = color\n",
    "        self.lines = lines\n",
    "        \n",
    "    def add(self, line):\n",
    "        self.lines.append(line)\n",
    "        \n",
    "    def get_collection(self):\n",
    "        if self.color:\n",
    "            return mcoll.LineCollection(self.lines, [mcolors.to_rgba(self.color)] * len(self.lines))\n",
    "        else:\n",
    "            return mcoll.LineCollection(self.lines)\n",
    "\n",
    "class Plot:\n",
    "    def __init__(self, points=[], lines=[], json = None):\n",
    "        if json is None:\n",
    "            self.points = points\n",
    "            self.lines = lines\n",
    "        else:\n",
    "            self.points = [PointsCollection(pointsCol) for pointsCol in js.loads(json)[\"points\"]]\n",
    "            self.lines = [LinesCollection(linesCol) for linesCol in js.loads(json)[\"lines\"]]\n",
    "            \n",
    "    def draw(self):\n",
    "        ax = plt.axes()\n",
    "        for collection in self.points:\n",
    "            if collection.points.size > 0:\n",
    "                ax.scatter(*zip(*collection.points), c=collection.color, marker=collection.marker)\n",
    "        for collection in self.lines:\n",
    "            ax.add_collection(collection.get_collection())\n",
    "        ax.autoscale()\n",
    "        plt.draw()\n",
    "        \n",
    "    def toJSON(self):\n",
    "        return js.dumps({\"points\": [pointCol.points.tolist() for pointCol in self.points], \n",
    "                          \"lines\":[linesCol.lines for linesCol in self.lines]})\n",
    "\n"
   ]
  },
  {
   "cell_type": "code",
   "execution_count": 3,
   "metadata": {
    "pycharm": {
     "name": "#%%\n"
    }
   },
   "outputs": [],
   "source": [
    "import random\n",
    "import math\n",
    "from random import randint"
   ]
  },
  {
   "cell_type": "code",
   "execution_count": 4,
   "metadata": {
    "pycharm": {
     "name": "#%%\n"
    }
   },
   "outputs": [
    {
     "output_type": "display_data",
     "data": {
      "text/plain": "Canvas(toolbar=Toolbar(toolitems=[('Home', 'Reset original view', 'home', 'home'), ('Back', 'Back to previous …",
      "application/vnd.jupyter.widget-view+json": {
       "version_major": 2,
       "version_minor": 0,
       "model_id": "0be85e142b2c4c5db67dbb0f32051e83"
      }
     },
     "metadata": {}
    }
   ],
   "source": [
    "%matplotlib ipympl\n",
    "\n",
    "a = [(randint(-1000,1000), randint(-1000,1000)) for _ in range(10**5)]\n",
    "Plot([PointsCollection(a)]).draw()"
   ]
  },
  {
   "cell_type": "code",
   "execution_count": 5,
   "metadata": {
    "pycharm": {
     "name": "#%%\n"
    }
   },
   "outputs": [
    {
     "output_type": "display_data",
     "data": {
      "text/plain": "Canvas(toolbar=Toolbar(toolitems=[('Home', 'Reset original view', 'home', 'home'), ('Back', 'Back to previous …",
      "application/vnd.jupyter.widget-view+json": {
       "version_major": 2,
       "version_minor": 0,
       "model_id": "11b9f85d6fb5433a90f790c71c5b30fc"
      }
     },
     "metadata": {}
    }
   ],
   "source": [
    "%matplotlib ipympl\n",
    "\n",
    "b = [(randint(-10**14,10**14), randint(-10**14,10**14)) for _ in range(10**5)]\n",
    "Plot([PointsCollection(b)]).draw()"
   ]
  },
  {
   "cell_type": "code",
   "execution_count": 6,
   "metadata": {
    "pycharm": {
     "name": "#%%\n"
    }
   },
   "outputs": [
    {
     "output_type": "display_data",
     "data": {
      "text/plain": "Canvas(toolbar=Toolbar(toolitems=[('Home', 'Reset original view', 'home', 'home'), ('Back', 'Back to previous …",
      "application/vnd.jupyter.widget-view+json": {
       "version_major": 2,
       "version_minor": 0,
       "model_id": "7a0d182a53d54d7fae7484aca22cc1fb"
      }
     },
     "metadata": {}
    }
   ],
   "source": [
    "%matplotlib ipympl\n",
    "\n",
    "r = 100\n",
    "c = [None] * 1000\n",
    "for i in range(1000):\n",
    "    d = random.random() * (2*math.pi)\n",
    "    c[i] = (r*math.sin(d), r*math.cos(d))\n",
    "\n",
    "Plot([PointsCollection(c)]).draw()"
   ]
  },
  {
   "cell_type": "code",
   "execution_count": 7,
   "metadata": {
    "pycharm": {
     "name": "#%%\n"
    }
   },
   "outputs": [
    {
     "output_type": "display_data",
     "data": {
      "text/plain": "Canvas(toolbar=Toolbar(toolitems=[('Home', 'Reset original view', 'home', 'home'), ('Back', 'Back to previous …",
      "application/vnd.jupyter.widget-view+json": {
       "version_major": 2,
       "version_minor": 0,
       "model_id": "9106a3e5fece4071a071347952677a4c"
      }
     },
     "metadata": {}
    }
   ],
   "source": [
    "%matplotlib ipympl\n",
    "\n",
    "pa = [-1.0,0.0]\n",
    "pb = [1.0,0.1]\n",
    "d = [None] * 1000\n",
    "for i in range(1000):\n",
    "    x = randint(-1000,1000)\n",
    "    d[i] = (x, (pa[1]-pb[1])/(pa[0]-pb[0])*x+(pa[1]-(pa[1]-pb[1])/(pa[0]-pb[0])*pa[0]))\n",
    "\n",
    "Plot([PointsCollection(d)]).draw()\n"
   ]
  },
  {
   "source": [
    "def det1(a,b,c):\n",
    "    return a[0]*b[1]+a[1]*c[0]+b[0]*c[1]-c[0]*b[1]-a[1]*b[0]-a[0]*c[1]"
   ],
   "cell_type": "code",
   "metadata": {
    "pycharm": {
     "name": "#%%\n"
    }
   },
   "execution_count": 8,
   "outputs": []
  },
  {
   "cell_type": "code",
   "execution_count": 9,
   "metadata": {
    "pycharm": {
     "name": "#%%\n"
    }
   },
   "outputs": [],
   "source": [
    "def det2(a,b,c):\n",
    "    return (a[0]-c[0])*(b[1]-c[1])-(a[1]-c[1])*(b[0]-c[0])"
   ]
  },
  {
   "cell_type": "code",
   "execution_count": 10,
   "metadata": {
    "pycharm": {
     "name": "#%%\n"
    }
   },
   "outputs": [],
   "source": [
    "def classify(points, detFun, e = 10** -14, a = (-1.0,0.0), b = (1.0,0.1)):\n",
    "    res = {\n",
    "        'left': [],\n",
    "        'right': [],\n",
    "        'collinear': []\n",
    "    }\n",
    "\n",
    "    for p in points:\n",
    "        d = detFun(a,b,p)\n",
    "\n",
    "        if d > e:\n",
    "            res['right'].append(p)\n",
    "        elif d < -e:\n",
    "            res['left'].append(p)\n",
    "        else:\n",
    "            res['collinear'].append(p)\n",
    "    return res"
   ]
  },
  {
   "cell_type": "code",
   "execution_count": 11,
   "metadata": {
    "pycharm": {
     "name": "#%%\n"
    }
   },
   "outputs": [],
   "source": [
    "def plotClassification(points, detFun, e = 10**-14, a = (-1.0,0.0), b = (1.0,0.1)):\n",
    "    res = classify(points,detFun,e,a,b)\n",
    "\n",
    "    classified = [PointsCollection(res['left'], color='blue'),\n",
    "                  PointsCollection(res['right'], color= 'green'),\n",
    "                  PointsCollection(res['collinear'], color= 'pink')]\n",
    "    Plot(classified).draw()\n",
    "\n",
    "    print(\"Left: \",len(res['left']))\n",
    "    print(\"Right: \",len(res['right']))\n",
    "    print(\"Collinear: \",len(res['collinear']))\n",
    "\n",
    "\n",
    "\n",
    "\n",
    "\n",
    "\n"
   ]
  },
  {
   "cell_type": "code",
   "execution_count": 12,
   "outputs": [],
   "source": [
    "def det_np3x3(a,b,c):\n",
    "    arr = np.array([[a[0],a[1],1],[b[0],b[1],1],[c[0],c[1],1]])\n",
    "    return np.linalg.det(arr)\n"
   ],
   "metadata": {
    "collapsed": false,
    "pycharm": {
     "name": "#%%\n"
    }
   }
  },
  {
   "cell_type": "code",
   "execution_count": 13,
   "outputs": [],
   "source": [
    "def det_np2x2(a,b,c):\n",
    "    arr = np.array([[a[0]-c[0], a[1]-c[1]],[b[0]-c[0], b[1]-c[1]]])\n",
    "    return np.linalg.det(arr)"
   ],
   "metadata": {
    "collapsed": false,
    "pycharm": {
     "name": "#%%\n"
    }
   }
  },
  {
   "cell_type": "code",
   "execution_count": 14,
   "outputs": [
    {
     "output_type": "display_data",
     "data": {
      "text/plain": "Canvas(toolbar=Toolbar(toolitems=[('Home', 'Reset original view', 'home', 'home'), ('Back', 'Back to previous …",
      "application/vnd.jupyter.widget-view+json": {
       "version_major": 2,
       "version_minor": 0,
       "model_id": "d7056f7ce301406d9ed659857fa7cea6"
      }
     },
     "metadata": {}
    },
    {
     "output_type": "stream",
     "name": "stdout",
     "text": [
      "Left:  50145\nRight:  49848\nCollinear:  7\n"
     ]
    }
   ],
   "source": [
    "%matplotlib ipympl\n",
    "plotClassification(b,det2)\n"
   ],
   "metadata": {
    "collapsed": false,
    "pycharm": {
     "name": "#%%\n"
    }
   }
  },
  {
   "cell_type": "code",
   "execution_count": 15,
   "outputs": [
    {
     "output_type": "display_data",
     "data": {
      "text/plain": "Canvas(toolbar=Toolbar(toolitems=[('Home', 'Reset original view', 'home', 'home'), ('Back', 'Back to previous …",
      "application/vnd.jupyter.widget-view+json": {
       "version_major": 2,
       "version_minor": 0,
       "model_id": "778f3632418e490282f58301eb15c5fb"
      }
     },
     "metadata": {}
    },
    {
     "output_type": "stream",
     "name": "stdout",
     "text": [
      "Left:  50145\nRight:  49847\nCollinear:  8\n"
     ]
    }
   ],
   "source": [
    "%matplotlib ipympl\n",
    "plotClassification(b,det_np2x2)\n"
   ],
   "metadata": {
    "collapsed": false,
    "pycharm": {
     "name": "#%%\n"
    }
   }
  },
  {
   "cell_type": "code",
   "execution_count": 68,
   "outputs": [],
   "source": [],
   "metadata": {
    "collapsed": false,
    "pycharm": {
     "name": "#%%\n"
    }
   }
  }
 ],
 "metadata": {
  "kernelspec": {
   "display_name": "Python 3",
   "language": "python",
   "name": "python3"
  },
  "language_info": {
   "codemirror_mode": {
    "name": "ipython",
    "version": 3
   },
   "file_extension": ".py",
   "mimetype": "text/x-python",
   "name": "python",
   "nbconvert_exporter": "python",
   "pygments_lexer": "ipython3",
   "version": "3.8.3-final"
  }
 },
 "nbformat": 4,
 "nbformat_minor": 4
}