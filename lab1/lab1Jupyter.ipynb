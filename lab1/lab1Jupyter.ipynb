{
 "cells": [
  {
   "cell_type": "code",
   "execution_count": 1,
   "metadata": {},
   "outputs": [],
   "source": [
    "import numpy as np\n",
    "import matplotlib.pyplot as plt\n",
    "import matplotlib.collections as mcoll\n",
    "import matplotlib.colors as mcolors\n",
    "import json as js"
   ]
  },
  {
   "cell_type": "code",
   "execution_count": 2,
   "metadata": {},
   "outputs": [],
   "source": [
    "class PointsCollection:\n",
    "    def __init__(self, points = [], color = None, marker = None):\n",
    "        self.points = np.array(points)\n",
    "        self.color = color\n",
    "        self.marker = marker\n",
    "        \n",
    "class LinesCollection:\n",
    "    def __init__(self, lines = [], color = None):\n",
    "        self.color = color\n",
    "        self.lines = lines\n",
    "        \n",
    "    def add(self, line):\n",
    "        self.lines.append(line)\n",
    "        \n",
    "    def get_collection(self):\n",
    "        if self.color:\n",
    "            return mcoll.LineCollection(self.lines, [mcolors.to_rgba(self.color)] * len(self.lines))\n",
    "        else:\n",
    "            return mcoll.LineCollection(self.lines)\n",
    "\n",
    "class Plot:\n",
    "    def __init__(self, points=[], lines=[], json = None):\n",
    "        if json is None:\n",
    "            self.points = points\n",
    "            self.lines = lines\n",
    "        else:\n",
    "            self.points = [PointsCollection(pointsCol) for pointsCol in js.loads(json)[\"points\"]]\n",
    "            self.lines = [LinesCollection(linesCol) for linesCol in js.loads(json)[\"lines\"]]\n",
    "            \n",
    "    def draw(self, title = None):\n",
    "        ax = plt.axes()\n",
    "        for collection in self.points:\n",
    "            if collection.points.size > 0:\n",
    "                ax.scatter(*zip(*collection.points), c=collection.color, marker=collection.marker)\n",
    "        for collection in self.lines:\n",
    "            ax.add_collection(collection.get_collection())\n",
    "        ax.autoscale()\n",
    "\n",
    "        if title is not None:\n",
    "            plt.title(label= title)\n",
    "        \n",
    "        plt.draw()\n",
    "        \n",
    "    def toJSON(self):\n",
    "        return js.dumps({\"points\": [pointCol.points.tolist() for pointCol in self.points], \n",
    "                          \"lines\":[linesCol.lines for linesCol in self.lines]})\n",
    "\n"
   ]
  },
  {
   "cell_type": "code",
   "execution_count": 3,
   "metadata": {
    "pycharm": {
     "name": "#%%\n"
    }
   },
   "outputs": [],
   "source": [
    "import random\n",
    "import math\n",
    "from random import randint"
   ]
  },
  {
   "cell_type": "code",
   "execution_count": 4,
   "metadata": {
    "pycharm": {
     "name": "#%%\n"
    }
   },
   "outputs": [
    {
     "output_type": "display_data",
     "data": {
      "text/plain": "Canvas(toolbar=Toolbar(toolitems=[('Home', 'Reset original view', 'home', 'home'), ('Back', 'Back to previous …",
      "application/vnd.jupyter.widget-view+json": {
       "version_major": 2,
       "version_minor": 0,
       "model_id": "15caa4aad9a241b084909d5eb1d17222"
      }
     },
     "metadata": {}
    }
   ],
   "source": [
    "%matplotlib ipympl\n",
    "\n",
    "# zbiór a\n",
    "\n",
    "cords = (-10 ** 14, 10 ** 14)\n",
    "a = [(randint(cords[0], cords[1]), randint(cords[0], cords[1])) for _ in range(10**5)]\n",
    "Plot([PointsCollection(a)]).draw()\n",
    "\n",
    "with open(\"a.txt\", \"w\") as fp:\n",
    "    js.dump(a, fp)"
   ]
  },
  {
   "cell_type": "code",
   "execution_count": 25,
   "metadata": {
    "pycharm": {
     "name": "#%%\n"
    }
   },
   "outputs": [
    {
     "output_type": "display_data",
     "data": {
      "text/plain": "Canvas(toolbar=Toolbar(toolitems=[('Home', 'Reset original view', 'home', 'home'), ('Back', 'Back to previous …",
      "application/vnd.jupyter.widget-view+json": {
       "version_major": 2,
       "version_minor": 0,
       "model_id": "460e4e96f4fa4beebb9d6af45a75fa36"
      }
     },
     "metadata": {}
    }
   ],
   "source": [
    "%matplotlib ipympl\n",
    "\n",
    "# zbiór b\n",
    "\n",
    "cords = (-10 ** 14, 10 ** 14)\n",
    "\n",
    "b = [(randint(cords[0], cords[1]), randint(cords[0], cords[1])) for _ in range(10**5)]\n",
    "Plot([PointsCollection(b)]).draw()\n",
    "\n",
    "with open(\"b.txt\", \"w\") as fp:\n",
    "    js.dump(b, fp)"
   ]
  },
  {
   "cell_type": "code",
   "execution_count": 6,
   "metadata": {
    "pycharm": {
     "name": "#%%\n"
    }
   },
   "outputs": [
    {
     "output_type": "display_data",
     "data": {
      "text/plain": "Canvas(toolbar=Toolbar(toolitems=[('Home', 'Reset original view', 'home', 'home'), ('Back', 'Back to previous …",
      "application/vnd.jupyter.widget-view+json": {
       "version_major": 2,
       "version_minor": 0,
       "model_id": "f6f33b7082684c4d9bf97164a913bead"
      }
     },
     "metadata": {}
    }
   ],
   "source": [
    "%matplotlib ipympl\n",
    "\n",
    "# zbior c okrag\n",
    "n = 1000\n",
    "r = 100\n",
    "c = [None] * n\n",
    "p = (0.0, 0.0)\n",
    "for i in range(n):\n",
    "    d = random.random() * (2*math.pi)\n",
    "    c[i] = (p[0] + r*math.sin(d), p[1] + r*math.cos(d))\n",
    "\n",
    "Plot([PointsCollection(c)]).draw()\n",
    "\n",
    "with open(\"c.txt\", \"w\") as fp:\n",
    "    js.dump(c, fp)"
   ]
  },
  {
   "cell_type": "code",
   "execution_count": 7,
   "metadata": {
    "pycharm": {
     "name": "#%%\n"
    }
   },
   "outputs": [
    {
     "output_type": "display_data",
     "data": {
      "text/plain": "Canvas(toolbar=Toolbar(toolitems=[('Home', 'Reset original view', 'home', 'home'), ('Back', 'Back to previous …",
      "application/vnd.jupyter.widget-view+json": {
       "version_major": 2,
       "version_minor": 0,
       "model_id": "df475ef6dffd43e8b20132892a9741e5"
      }
     },
     "metadata": {}
    }
   ],
   "source": [
    "%matplotlib ipympl\n",
    "\n",
    "# zbior d prosta\n",
    "\n",
    "n = 1000\n",
    "\n",
    "p1 = (-1.0, 0.0)\n",
    "p2 = (1.0, 0.1)\n",
    "\n",
    "lineA = (p1[1] - p2[1]) / (p1[0] - p2[0])\n",
    "lineB = p1[1] - lineA * p1[0]\n",
    "\n",
    "d = [None] * n\n",
    "for i in range(n):\n",
    "    x = randint(-1000,1000)\n",
    "    d[i] = (x, lineA*x + lineB)\n",
    "\n",
    "Plot([PointsCollection(d)]).draw()\n",
    "\n",
    "with open(\"d.txt\", \"w\") as fp:\n",
    "    js.dump(d, fp)"
   ]
  },
  {
   "cell_type": "code",
   "execution_count": 8,
   "metadata": {},
   "outputs": [],
   "source": [
    "def load():\n",
    "    with open(\"a.txt\", \"r\") as fp:\n",
    "        a = js.load(fp)\n",
    "\n",
    "    with open(\"b.txt\", \"r\") as fp:\n",
    "        b = js.load(fp)\n",
    "\n",
    "    with open(\"c.txt\", \"r\") as fp:\n",
    "        c = js.load(fp)\n",
    "\n",
    "    with open(\"d.txt\", \"r\") as fp:\n",
    "        d = js.load(fp)\n",
    "\n",
    "    return a, b, c, d\n",
    "a,b,c,d = load()\n"
   ]
  },
  {
   "source": [
    "def det1(a,b,c):\n",
    "    return a[0]*b[1] + a[1]*c[0] + b[0]*c[1] - c[0]*b[1] - a[1]*b[0] - a[0]*c[1]"
   ],
   "cell_type": "code",
   "metadata": {
    "pycharm": {
     "name": "#%%\n"
    }
   },
   "execution_count": 9,
   "outputs": []
  },
  {
   "cell_type": "code",
   "execution_count": 10,
   "metadata": {
    "pycharm": {
     "name": "#%%\n"
    }
   },
   "outputs": [],
   "source": [
    "def det2(a,b,c):\n",
    "    return (a[0] - c[0])*(b[1] - c[1]) - (a[1] - c[1])*(b[0] - c[0])"
   ]
  },
  {
   "cell_type": "code",
   "execution_count": 11,
   "metadata": {
    "pycharm": {
     "name": "#%%\n"
    }
   },
   "outputs": [],
   "source": [
    "def classify(points, detFun, e = 10** -14, a = (-1.0,0.0), b = (1.0,0.1)):\n",
    "    res = {\n",
    "        'left': [],\n",
    "        'right': [],\n",
    "        'collinear': []\n",
    "    }\n",
    "\n",
    "    for p in points:\n",
    "        d = detFun(a,b,p)\n",
    "\n",
    "        if d > e:\n",
    "            res['right'].append(p)\n",
    "        elif d < -e:\n",
    "            res['left'].append(p)\n",
    "        else:\n",
    "            res['collinear'].append(p)\n",
    "    return res"
   ]
  },
  {
   "cell_type": "code",
   "execution_count": 12,
   "metadata": {
    "pycharm": {
     "name": "#%%\n"
    }
   },
   "outputs": [],
   "source": [
    "def plotClassification(points, detFun, e = 10**-14, a = (-1.0,0.0), b = (1.0,0.1)):\n",
    "    res = classify(points,detFun,e,a,b)\n",
    "\n",
    "    classified = [PointsCollection(res['left'], color='blue'),\n",
    "                  PointsCollection(res['right'], color= 'green'),\n",
    "                  PointsCollection(res['collinear'], color= 'pink')]\n",
    "    Plot(classified).draw()\n",
    "\n",
    "    \n",
    "\n",
    "    print(\"Left: \", len(res['left']))\n",
    "    print(\"Right: \",len(res['right']))\n",
    "    print(\"Collinear: \",len(res['collinear']))\n",
    "\n"
   ]
  },
  {
   "cell_type": "code",
   "execution_count": 13,
   "outputs": [],
   "source": [
    "def det_np3x3(a,b,c):\n",
    "    arr = np.array([[a[0], a[1], 1], [b[0], b[1], 1], [c[0], c[1], 1]])\n",
    "    return np.linalg.det(arr)\n"
   ],
   "metadata": {
    "collapsed": false,
    "pycharm": {
     "name": "#%%\n"
    }
   }
  },
  {
   "cell_type": "code",
   "execution_count": 14,
   "outputs": [],
   "source": [
    "def det_np2x2(a,b,c):\n",
    "    arr = np.array([[a[0] - c[0], a[1] - c[1]], [b[0] - c[0], b[1] - c[1]]])\n",
    "    return np.linalg.det(arr)"
   ],
   "metadata": {
    "collapsed": false,
    "pycharm": {
     "name": "#%%\n"
    }
   }
  },
  {
   "cell_type": "code",
   "execution_count": 26,
   "outputs": [
    {
     "output_type": "display_data",
     "data": {
      "text/plain": "Canvas(toolbar=Toolbar(toolitems=[('Home', 'Reset original view', 'home', 'home'), ('Back', 'Back to previous …",
      "application/vnd.jupyter.widget-view+json": {
       "version_major": 2,
       "version_minor": 0,
       "model_id": "5295f5c5b1fd4b89b7ff5cf43221f820"
      }
     },
     "metadata": {}
    },
    {
     "output_type": "stream",
     "name": "stdout",
     "text": [
      "Left:  50234\nRight:  49753\nCollinear:  13\n"
     ]
    }
   ],
   "source": [
    "%matplotlib ipympl\n",
    "\n",
    "plotClassification(b,det2)\n"
   ],
   "metadata": {
    "collapsed": false,
    "pycharm": {
     "name": "#%%\n"
    },
    "tags": []
   }
  },
  {
   "cell_type": "code",
   "execution_count": 27,
   "outputs": [
    {
     "output_type": "display_data",
     "data": {
      "text/plain": "Canvas(toolbar=Toolbar(toolitems=[('Home', 'Reset original view', 'home', 'home'), ('Back', 'Back to previous …",
      "application/vnd.jupyter.widget-view+json": {
       "version_major": 2,
       "version_minor": 0,
       "model_id": "e5a2436e244d4493a1f2698657cff40d"
      }
     },
     "metadata": {}
    },
    {
     "output_type": "stream",
     "name": "stdout",
     "text": [
      "Left:  50236\nRight:  49755\nCollinear:  9\n"
     ]
    }
   ],
   "source": [
    "%matplotlib ipympl\n",
    "plotClassification(b,det_np2x2)\n"
   ],
   "metadata": {
    "collapsed": false,
    "pycharm": {
     "name": "#%%\n"
    }
   }
  },
  {
   "cell_type": "code",
   "execution_count": 29,
   "metadata": {},
   "outputs": [],
   "source": [
    "def countDiff(points, detFun1, detFun2, e = 10**-14, a = (-1.0,0.0), b = (1.0,0.1)):\n",
    "    #czerwone to punkty sklasyfikowane przez detFun1 jako wspolliniowe, a detFun2 nie\n",
    "    #zielone to punkyu sklasyfikowane przez detFun2 jako wpolliniowe, a detFun1 nie\n",
    "    def cat(p, f):\n",
    "        d = f(a,b,p)\n",
    "\n",
    "        if d > e:\n",
    "            return 'r'\n",
    "        elif d < -e:\n",
    "            return 'l'\n",
    "        else:\n",
    "            return 'c'\n",
    "    res1 = []\n",
    "    res2 = []        \n",
    "    for p in points:\n",
    "        if cat(p,detFun1) is not cat(p,detFun2):\n",
    "            if cat(p, detFun1) is not 'c':\n",
    "                res2.append(p)\n",
    "            else:\n",
    "                res1.append(p)\n",
    "            \n",
    "\n",
    "            \n",
    "\n",
    "    %matplotlib ipympl\n",
    "    Plot([PointsCollection(res1, color= 'red'),PointsCollection(res2, color='green')]).draw()\n",
    "\n",
    "    \n",
    "    return len(res1) + len(res2)\n",
    "\n"
   ]
  },
  {
   "cell_type": "code",
   "execution_count": 30,
   "metadata": {
    "tags": []
   },
   "outputs": [
    {
     "output_type": "display_data",
     "data": {
      "text/plain": "Canvas(toolbar=Toolbar(toolitems=[('Home', 'Reset original view', 'home', 'home'), ('Back', 'Back to previous …",
      "application/vnd.jupyter.widget-view+json": {
       "version_major": 2,
       "version_minor": 0,
       "model_id": "11c7932bed154d019beb942a0f12f4ab"
      }
     },
     "metadata": {}
    },
    {
     "output_type": "execute_result",
     "data": {
      "text/plain": [
       "6"
      ]
     },
     "metadata": {},
     "execution_count": 30
    }
   ],
   "source": [
    "countDiff(b,det2,det_np2x2)"
   ]
  }
 ],
 "metadata": {
  "kernelspec": {
   "display_name": "Python 3",
   "language": "python",
   "name": "python3"
  },
  "language_info": {
   "codemirror_mode": {
    "name": "ipython",
    "version": 3
   },
   "file_extension": ".py",
   "mimetype": "text/x-python",
   "name": "python",
   "nbconvert_exporter": "python",
   "pygments_lexer": "ipython3",
   "version": "3.8.3-final"
  }
 },
 "nbformat": 4,
 "nbformat_minor": 4
}